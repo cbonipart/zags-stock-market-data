{
 "metadata": {
  "language_info": {
   "codemirror_mode": {
    "name": "ipython",
    "version": 3
   },
   "file_extension": ".py",
   "mimetype": "text/x-python",
   "name": "python",
   "nbconvert_exporter": "python",
   "pygments_lexer": "ipython3",
   "version": "3.7.9-final"
  },
  "orig_nbformat": 2,
  "kernelspec": {
   "name": "python3",
   "display_name": "Python 3",
   "language": "python"
  }
 },
 "nbformat": 4,
 "nbformat_minor": 2,
 "cells": [
  {
   "cell_type": "code",
   "execution_count": null,
   "metadata": {},
   "outputs": [],
   "source": [
    "pip install yfinance"
   ]
  },
  {
   "cell_type": "code",
   "execution_count": null,
   "metadata": {
    "tags": [
     "outputPrepend"
    ]
   },
   "outputs": [],
   "source": [
    "#Author: Cole Bonipart\n",
    "#Last edited: February 6, 2021\n",
    "#Description: This program cleans data from the yfinance python project and allows users to search for data on specific stocks and etf's"
   ]
  },
  {
   "cell_type": "code",
   "execution_count": null,
   "metadata": {},
   "outputs": [],
   "source": [
    "#def twitterRec(companyName):\n",
    "    "
   ]
  },
  {
   "cell_type": "code",
   "execution_count": null,
   "metadata": {},
   "outputs": [],
   "source": [
    "def priceGraph(priceDF, tickerSymbol):\n",
    "    #Creates a graph of a security's share price for a specified period\n",
    "    import matplotlib.pyplot as plt\n",
    "    plt.title(\"{} Share Price\".format(tickerSymbol), fontsize = 20)\n",
    "    plt.xlabel(\"Date\")\n",
    "    plt.ylabel(\"Price (USD)\")\n",
    "    plt.xticks(rotation=45)\n",
    "    plt.plot(priceDF.index, priceDF[\"Close\"])\n",
    "    plt.show()"
   ]
  },
  {
   "cell_type": "code",
   "execution_count": null,
   "metadata": {},
   "outputs": [],
   "source": [
    "def validPeriod(prompt):\n",
    "    #Error checking for the input of periods for the price graph\n",
    "    validInput = False\n",
    "    while validInput == False:\n",
    "        period = input(prompt)\n",
    "        if period.lower() == '1d':\n",
    "            period = '1d'\n",
    "            validInput = True\n",
    "        elif period.lower() == '5d':\n",
    "            period = '5d'\n",
    "            validInput = True\n",
    "        elif period.lower() == '1mo':\n",
    "            period = '1mo'\n",
    "            validInput = True\n",
    "        elif period.lower() == '3mo':\n",
    "            period = '3mo'\n",
    "            validInput = True\n",
    "        elif period.lower() == '6mo':\n",
    "            period = '6mo'\n",
    "            validInput = True\n",
    "        elif period.lower() == '1y':\n",
    "            period = '1y'\n",
    "            validInput = True\n",
    "        elif period.lower() == '2y':\n",
    "            period = '2y'\n",
    "            validInput = True\n",
    "        elif period.lower() == '5y':\n",
    "            period = '5y'\n",
    "            validInput = True\n",
    "        elif period.lower() == '10y':\n",
    "            period = '10y'\n",
    "            validInput = True\n",
    "        elif period.lower() == 'ytd':\n",
    "            period = 'ytd'\n",
    "            validInput = True\n",
    "        elif period.lower() == 'max':\n",
    "            period = 'max'\n",
    "            validInput = True\n",
    "        else:\n",
    "            print(\"Error: Please enter a valid command\")\n",
    "    return period"
   ]
  },
  {
   "cell_type": "code",
   "execution_count": null,
   "metadata": {},
   "outputs": [],
   "source": [
    "def getData(tickerSymbol):\n",
    "    #Function gets up to date variables that change daily\n",
    "    newGraph = 'Y'\n",
    "    selectPeriod = '1mo'\n",
    "    currentSecurityInfoDict = tickerSymbol.info \n",
    "    symbol = currentSecurityInfoDict['symbol']\n",
    "    companyName = currentSecurityInfoDict['longName']\n",
    "    currentPrice = currentSecurityInfoDict['regularMarketPrice']\n",
    "    dayHigh = currentSecurityInfoDict['regularMarketDayHigh']\n",
    "    dayLow = currentSecurityInfoDict['regularMarketDayLow']\n",
    "    yearHigh = currentSecurityInfoDict['fiftyTwoWeekHigh']\n",
    "    yearLow = currentSecurityInfoDict['fiftyTwoWeekLow']\n",
    "    volume = currentSecurityInfoDict['volume']\n",
    "    avgVolume = currentSecurityInfoDict['averageDailyVolume10Day']\n",
    "    marketCap = currentSecurityInfoDict['marketCap']\n",
    "    divYield = currentSecurityInfoDict['dividendYield']\n",
    "    \n",
    "    #print out selected variables line by line with propper formatting\n",
    "    print(\"{} Data:\\n\".format(symbol))\n",
    "    print(\"\\tCompany Name: {}\".format(companyName))\n",
    "    print(\"\\tCurrent Price: ${}\".format(currentPrice))\n",
    "    print(\"\\tToday's High: ${}\".format(dayHigh))\n",
    "    print(\"\\tToday's Low: ${}\".format(dayLow))\n",
    "    print(\"\\t52 Week High: ${}\".format(yearHigh))\n",
    "    print(\"\\t52 Week Low: ${}\".format(yearLow))\n",
    "    print(\"\\tCurrent Volume: {} shares\".format(volume))\n",
    "    print(\"\\t10 Day Average Volume: {} shares\".format(avgVolume))\n",
    "    print(\"\\tMarket Capitalization: ${}\".format(marketCap))\n",
    "    print(\"\\tDividend Yield Ratio: {}\\n\".format(divYield))\n",
    "\n",
    "    #create graph without asking user for period the first time, choose period for later graphs\n",
    "    while newGraph == 'Y':\n",
    "        priceDF = tickerSymbol.history(period=selectPeriod) #get dataframe of price data for the selected period\n",
    "        priceGraph(priceDF, symbol) #create graph for selected data\n",
    "        newGraph = runItBack(\"Would you like to see another graph of {} price data for a differnet period? (Enter Y/N):\".format(symbol))\n",
    "        if newGraph == 'Y':\n",
    "            selectPeriod = validPeriod(\"What period would you like to view for the new price graph? (Please enter 1d, 5d, 1mo, 3mo, 6mo, 1y, 2y, 5y, 10y, ytd, or max)\")"
   ]
  },
  {
   "cell_type": "code",
   "execution_count": null,
   "metadata": {},
   "outputs": [],
   "source": [
    "def greeting():\n",
    "    print(\"Welcome to the system. This is a tool for new or experienced investors searching for information to help inform their investment decisions.\")\n",
    "    #firstTime() #promt the user asking if it is their first time using the system, if so, have them create a username and password, else enter password"
   ]
  },
  {
   "cell_type": "code",
   "execution_count": null,
   "metadata": {},
   "outputs": [],
   "source": [
    "def runItBack(prompt):\n",
    "    #Error checking for the input so that it limits commands to y/n\n",
    "    validInput = False\n",
    "    while validInput == False:\n",
    "        answer = input(prompt)\n",
    "        if answer.upper() == 'Y':\n",
    "            answer = 'Y'\n",
    "            validInput = True\n",
    "        elif answer.upper() == 'N':\n",
    "            answer = \"N\"\n",
    "            validInput = True\n",
    "        else:\n",
    "            print(\"Error: Please enter a valid command\")\n",
    "    return answer"
   ]
  },
  {
   "cell_type": "code",
   "execution_count": null,
   "metadata": {},
   "outputs": [],
   "source": [
    "def search(prompt):\n",
    "    import csv\n",
    "    import yfinance as yf\n",
    "    #looks throught a list of security names and ticker symbols to see if the user's search matches anything in the list and converts securityName to symbol if symbol not entered\n",
    "    searchAgain = 'Y'\n",
    "    searchString = input(prompt)\n",
    "    while searchAgain == 'Y': #run until user inputs \"N\" on a searchAgain prompt\n",
    "        #reset variables used in the search process\n",
    "        resultCounter = 0\n",
    "        equalsList = []\n",
    "        inList = []\n",
    "        autoCompleteTicker = ''\n",
    "        tickerString = ''\n",
    "        security = []\n",
    "        namesCSV = open('yahooPrices\\symbols_valid_meta.csv', 'r')\n",
    "        nameList = csv.reader(namesCSV, delimiter=',')\n",
    "\n",
    "        for security in nameList: #look through each company name and ticker symbol in the nameList csv reader and compare it to the search string\n",
    "            if (searchString.upper() == security[1]) or (searchString.upper() == security[2].upper()): #look for exact matches first\n",
    "                tickerString = security[1]\n",
    "                equalsList.append(\"{} - {}\".format(security[1], security[2])) #formatting for displaying info\n",
    "                resultCounter += 1\n",
    "                break\n",
    "            elif (searchString.upper() in security[1].upper()) or (searchString.upper() in security[2].upper()): #look for partial matches and add them to a contains list              \n",
    "                autoCompleteTicker = security[1] #provision for if only one partial result is returned\n",
    "                inList.append(\"{} - {}\".format(security[1], security[2])) #formatting for displaying info\n",
    "                resultCounter += 1\n",
    "        namesCSV.close()\n",
    "        if resultCounter == 1: #if there is exactly one result returned from the search\n",
    "            if (len(equalsList) == 0):\n",
    "                print(inList[0], \"\\n\")\n",
    "                tickerString = autoCompleteTicker\n",
    "            else:\n",
    "                print(equalsList[0], \"\\n\")\n",
    "            shouldGet = runItBack(\"Was this what you were looking for? (Y/N)\\n\")\n",
    "            if shouldGet == 'Y': \n",
    "                currentSearch = yf.Ticker(tickerString) #convert string of ticker symbol to yfinance format for getting data\n",
    "                getData(currentSearch) #get data for the specified security\n",
    "            searchAgain = runItBack(\"Would you like to search for something else? Enter (Y/N):\\n\")\n",
    "            if searchAgain == 'Y':\n",
    "                searchString = input(prompt)\n",
    "            continue\n",
    "        elif resultCounter > 1: #if more than one result is found from search\n",
    "            if (len(equalsList) > 0): #if an exact match is found, display that first and ask if it is correct\n",
    "                print(equalsList[0])\n",
    "                shouldGet = runItBack(\"Was this what you were looking for? (Y/N)\\n\")\n",
    "                if shouldGet == 'Y':\n",
    "                    currentSearch = yf.Ticker(tickerString) #convert string of ticker symbol to yfinance format for getting data\n",
    "                    getData(currentSearch) #get data for the specified security\n",
    "                    searchAgain = runItBack(\"Would you like to search for something else? Enter (Y/N):\\n\")\n",
    "                    if searchAgain == 'Y':\n",
    "                        searchString = input(prompt)\n",
    "                    continue\n",
    "                else: #if the exact match was not correct, display the list of results containing the search\n",
    "                    for name in inList:\n",
    "                        print(name)\n",
    "                    print('\\n')\n",
    "                    searchString = input(\"Are any of these what you were looking for? If you see what you are looking for, please enter the ticker symbol so we can retrieve the data for you. If not, please try searching again.\\n\")    \n",
    "                    continue\n",
    "            else: #if there are no exact matches found, display the list of results containing the search\n",
    "                for name in inList:\n",
    "                    print(name)\n",
    "                print('\\n')\n",
    "                searchString = input(\"Are any of these what you were looking for? If you see what you are looking for, please enter the ticker symbol so we can retrieve the data for you. If not, please try searching again.\\n\")    \n",
    "                continue\n",
    "        elif resultCounter < 1: #if no results are found from search, ask user to search again\n",
    "            searchString = input(\"I couldn't seem to find what you were looking for, please try searching again.\\n\")\n",
    "            continue"
   ]
  },
  {
   "cell_type": "code",
   "execution_count": null,
   "metadata": {},
   "outputs": [],
   "source": [
    "def main():\n",
    "    #mainline of the program, only calls two functions because all of the other functions are nested within each other\n",
    "    import numpy as np\n",
    "    import pandas as pd\n",
    "        \n",
    "    greeting()\n",
    "    search(\"Please enter the ticker symbol or name of the security you would like information on:\")"
   ]
  },
  {
   "cell_type": "code",
   "execution_count": null,
   "metadata": {},
   "outputs": [],
   "source": [
    "main()"
   ]
  }
 ]
}
